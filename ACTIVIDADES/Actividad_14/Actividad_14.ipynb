{
  "nbformat": 4,
  "nbformat_minor": 0,
  "metadata": {
    "colab": {
      "provenance": [],
      "collapsed_sections": [
        "BIVx-UlEYA34",
        "ykVV52SdhzQs",
        "YVeO1TpKigTq",
        "estzVQZpkvSs",
        "xJsITc14o8tB",
        "GRIvaasBs3Wn"
      ]
    },
    "kernelspec": {
      "name": "python3",
      "display_name": "Python 3"
    },
    "language_info": {
      "name": "python"
    }
  },
  "cells": [
    {
      "cell_type": "markdown",
      "source": [
        "Trabajo elaborado grupalmente por:\n",
        "\n",
        "Estudiante 1: antony.mendoza@upch.pe\n",
        "\n",
        "Estudiante 2: JOHN.RODRIGUES@UPCH.PE\n",
        "\n",
        "Estudiante 3: LEILY.LLANOS@UPCH.PE"
      ],
      "metadata": {
        "id": "5uoXyqnRTgG8"
      }
    },
    {
      "cell_type": "markdown",
      "source": [
        "# **Problema 1: Simulación de un ataque de reconocimiento y mitigación**"
      ],
      "metadata": {
        "id": "BIVx-UlEYA34"
      }
    },
    {
      "cell_type": "markdown",
      "source": [
        "**Contexto**: Una empresa observa actividad sospechosa en sus servidores y sospecha de un\n",
        "ataque de reconocimiento. Los estudiantes deben utilizar herramientas como dig,\n",
        "traceroute, y whois para identificar la fuente y naturaleza del ataque, seguido por la\n",
        "implementación de estrategias para mitigar y prevenir futuros ataques."
      ],
      "metadata": {
        "id": "KEe_JWJ7YKZi"
      }
    },
    {
      "cell_type": "markdown",
      "source": [
        "## **Paso 1: Identificación del ataque utilizando Python**"
      ],
      "metadata": {
        "id": "Mnz23EQoYbfR"
      }
    },
    {
      "cell_type": "code",
      "source": [
        "!sudo apt-get update   #esto es necesario instalar para poder ejecutar la siguiente celda\n",
        "!sudo apt-get install dnsutils\n"
      ],
      "metadata": {
        "collapsed": true,
        "id": "S5U-pckxaCCe"
      },
      "execution_count": null,
      "outputs": []
    },
    {
      "cell_type": "markdown",
      "source": [
        "El propósito de obtener la dirección IP asociada con un dominio y luego realizar un traceroute a esa dirección IP para identificar la posible fuente de un ataque."
      ],
      "metadata": {
        "id": "cFkr2DXPch4l"
      }
    },
    {
      "cell_type": "code",
      "execution_count": null,
      "metadata": {
        "id": "vqQNQyOzWjEt"
      },
      "outputs": [],
      "source": [
        "import subprocess\n",
        "import re\n",
        "def run_dig(domain):\n",
        "  result = subprocess.run(['dig', '+short', domain], stdout=subprocess.PIPE)\n",
        "  return result.stdout.decode('utf-8').strip()\n",
        "\n",
        "def run_traceroute(ip_address):\n",
        "  result = subprocess.run(['traceroute', ip_address], stdout=subprocess.PIPE)\n",
        "  return result.stdout.decode('utf-8')\n",
        "\n",
        "def get_attack_source(trace_result):\n",
        "    # Encuentra la dirección IP de origen en la salida del traceroute\n",
        "    match = re.search(r'\\((\\d+\\.\\d+\\.\\d+\\.\\d+)\\)', trace_result)\n",
        "    if match:\n",
        "        return match.group(1)\n",
        "    else:\n",
        "        return None\n",
        "\n",
        "# imprimirá la dirección IP asociada con el dominio (si se encuentra),\n",
        "# la salida del traceroute y la posible fuente de ataque\n",
        "# (si se puede extraer una dirección IP de la salida del traceroute)\n",
        "domain = 'suspicious.example.com'\n",
        "ip_address = run_dig(domain)\n",
        "if ip_address:\n",
        "    print(f\"IP Address for {domain} is {ip_address}\")\n",
        "    trace_result = run_traceroute(ip_address)\n",
        "    print(\"Traceroute result:\", trace_result)\n",
        "    attack_source = get_attack_source(trace_result)\n",
        "    if attack_source:\n",
        "        print(\"Potential attack source:\", attack_source)\n",
        "    else:\n",
        "        print(\"No attack source found in traceroute result\")"
      ]
    },
    {
      "cell_type": "markdown",
      "source": [
        "## **Paso 2: Análisis de tráfico**"
      ],
      "metadata": {
        "id": "cYUEADK9efzE"
      }
    },
    {
      "cell_type": "code",
      "source": [
        "!tcpdump -i eth0 -c 100 -w capture.pcap #esto ayuda a capturar el tráfico de red de una interfaz.\n",
        "                                        #lo cuál se guarda en un archivo pcap para usarlo en la siguiente celda"
      ],
      "metadata": {
        "id": "BwggBjQ6ehEA"
      },
      "execution_count": null,
      "outputs": []
    },
    {
      "cell_type": "code",
      "source": [
        "import os\n",
        "def capture_packets(interface='eth0', count=10, outfile='capture.pcap'):\n",
        "  cmd = f\"tcpdump -i {interface} -c {count} -w {outfile}\"\n",
        "  os.system(cmd)\n",
        "def analyze_packets(pcap_file):\n",
        "  try:\n",
        "    from scapy.all import rdpcap, IP\n",
        "    packets = rdpcap(pcap_file)\n",
        "    for packet in packets:\n",
        "      if packet.haslayer(IP):\n",
        "        print(f\"Source: {packet[IP].src}, Destination: {packet[IP].dst}\")\n",
        "  except ImportError:\n",
        "    print(\"Scapy is not installed. Install it to analyze packets.\")\n",
        "# Ejemplo de uso\n",
        "capture_packets()\n",
        "analyze_packets('capture.pcap')"
      ],
      "metadata": {
        "id": "GRWfIFckeuaK"
      },
      "execution_count": null,
      "outputs": []
    },
    {
      "cell_type": "markdown",
      "source": [
        "## **Paso 3: Mitigación y prevención**"
      ],
      "metadata": {
        "id": "QmKBf2WQe4Dq"
      }
    },
    {
      "cell_type": "code",
      "source": [
        "def block_ip(ip_address):\n",
        "  cmd = f\"iptables -A INPUT -s {ip_address} -j DROP\"\n",
        "  os.system(cmd)\n",
        "  print(f\"Blocked IP address {ip_address}\")\n",
        "\n",
        "# Bloquear la dirección IP encontrada en el Paso 1\n",
        "if ip_address:\n",
        "  block_ip(ip_address)"
      ],
      "metadata": {
        "id": "Qbumg7Bie6hh"
      },
      "execution_count": null,
      "outputs": []
    },
    {
      "cell_type": "markdown",
      "source": [
        "Ejemplo de implementación de la solución sobre este problema en base al contexto brindado:"
      ],
      "metadata": {
        "id": "kAdcIIGOhefD"
      }
    },
    {
      "cell_type": "code",
      "source": [
        "import subprocess\n",
        "import re\n",
        "\n",
        "def run_dig(domain):\n",
        "    result = subprocess.run(['dig', '+short', domain], stdout=subprocess.PIPE)\n",
        "    return result.stdout.decode('utf-8').strip()\n",
        "\n",
        "def run_traceroute(ip_address):\n",
        "    result = subprocess.run(['traceroute', ip_address], stdout=subprocess.PIPE)\n",
        "    return result.stdout.decode('utf-8')\n",
        "\n",
        "def get_attack_source(trace_result):\n",
        "    match = re.search(r'\\((\\d+\\.\\d+\\.\\d+\\.\\d+)\\)', trace_result)\n",
        "    if match:\n",
        "        return match.group(1)\n",
        "    else:\n",
        "        return None\n",
        "\n",
        "def block_ip(ip_address):\n",
        "    cmd = f\"iptables -A INPUT -s {ip_address} -j DROP\"\n",
        "    subprocess.run(cmd, shell=True)\n",
        "    print(f\"Blocked IP address {ip_address}\")\n",
        "\n",
        "def analyze_traffic(ip_address):\n",
        "    # Simulación de análisis de tráfico sospechoso\n",
        "    if \"192.168.1.100\" in ip_address:\n",
        "        return True\n",
        "    else:\n",
        "        return False\n",
        "\n",
        "def main():\n",
        "    domain = 'suspicious.example.com'\n",
        "\n",
        "    # Paso 1: Identificar la fuente del ataque utilizando dig y traceroute\n",
        "    ip_address = run_dig(domain)\n",
        "    if ip_address:\n",
        "        print(f\"IP Address for {domain} is {ip_address}\")\n",
        "        trace_result = run_traceroute(ip_address)\n",
        "        print(\"Traceroute result:\", trace_result)\n",
        "        attack_source = get_attack_source(trace_result)\n",
        "\n",
        "        # Paso 2: Analizar el tráfico sospechoso\n",
        "        if attack_source:\n",
        "            print(\"Potential attack source:\", attack_source)\n",
        "            if analyze_traffic(attack_source):\n",
        "                # Paso 3: Implementar estrategias para mitigar y prevenir futuros ataques\n",
        "                block_ip(attack_source)\n",
        "                print(\"Action: Blocked suspicious traffic from potential attack source.\")\n",
        "            else:\n",
        "                print(\"Action: No suspicious traffic detected.\")\n",
        "        else:\n",
        "            print(\"No attack source found in traceroute result\")\n",
        "    else:\n",
        "        print(f\"Could not resolve domain {domain}\")\n",
        "\n",
        "if __name__ == \"__main__\":\n",
        "    main()"
      ],
      "metadata": {
        "colab": {
          "base_uri": "https://localhost:8080/"
        },
        "id": "sx7TY5CRgZCT",
        "outputId": "9e2b0baa-7ebe-4f8e-f6bd-ddf24808949a"
      },
      "execution_count": null,
      "outputs": [
        {
          "output_type": "stream",
          "name": "stdout",
          "text": [
            "Could not resolve domain suspicious.example.com\n"
          ]
        }
      ]
    },
    {
      "cell_type": "markdown",
      "source": [
        "# **Problema 2: Análisis forense de un ataque de denegación de servicio (DoS)**"
      ],
      "metadata": {
        "id": "ykVV52SdhzQs"
      }
    },
    {
      "cell_type": "markdown",
      "source": [
        "**Contexto**: Un servicio en línea de la empresa ha sido interrumpido debido a un ataque DoS.\n",
        "Se requiere que los estudiantes realicen un análisis forense utilizando registros de eventos y\n",
        "herramientas de captura de paquetes para identificar la fuente del ataque y proponer\n",
        "medidas correctivas."
      ],
      "metadata": {
        "id": "5Z_hL3HdiJhd"
      }
    },
    {
      "cell_type": "markdown",
      "source": [
        "## **Paso 1: Diseño del protocolo**"
      ],
      "metadata": {
        "id": "YVeO1TpKigTq"
      }
    },
    {
      "cell_type": "markdown",
      "source": [
        "\n",
        "1. Formato del mensaje:\n",
        "\n",
        "  * Encabezado:\n",
        "    - Tipo de operación: Indica la acción que se debe realizar, como PUT, GET o DELETE.\n",
        "\n",
        "    - Tamaño del mensaje: Especifica la longitud del mensaje en bytes.\n",
        "\n",
        "    - Número de secuencia: Proporciona un identificador único para cada mensaje enviado en una secuencia.\n",
        "\n",
        "    - Número de acuse de recibo: Indica el número de secuencia del último mensaje recibido correctamente por el receptor.\n",
        "\n",
        "  * Cuerpo del mensaje: Contiene los datos asociados con la operación, como el recurso a agregar, obtener o eliminar.\n",
        "\n",
        "2. Tipos de operaciones:\n",
        "\n",
        "  * PUT: Utilizado para agregar o actualizar un recurso en el servidor.\n",
        "  * GET: Utilizado para solicitar un recurso al servidor.\n",
        "  * DELETE: Utilizado para eliminar un recurso del servidor.\n",
        "\n",
        "3. Cabecera de control de flujo y manejo de errores:\n",
        "\n",
        "  * Se debe agregar cabeceras adicionales para el control de flujo y el manejo de errores según sea necesario. Por ejemplo, se podría incluir campos para ventanas de recepción, números de secuencia duplicados o fuera de orden, y códigos de error para manejar situaciones de error."
      ],
      "metadata": {
        "id": "ZTJCrfzfjMf1"
      }
    },
    {
      "cell_type": "markdown",
      "source": [
        "## **Paso 2: Implementación de control de flujo**"
      ],
      "metadata": {
        "id": "estzVQZpkvSs"
      }
    },
    {
      "cell_type": "markdown",
      "source": [
        "El siguiente código son modificaciones y mejoras realizadas al protocolo propuesto en base al código brindado en la actividad."
      ],
      "metadata": {
        "id": "Of7iTLqFmI1_"
      }
    },
    {
      "cell_type": "code",
      "source": [
        "import socket\n",
        "import struct\n",
        "# Definición de constantes para tipos de operaciones\n",
        "PUT = 1\n",
        "GET = 2\n",
        "DELETE = 3\n",
        "\n",
        "# Definición del tamaño de la ventana deslizante\n",
        "WINDOW_SIZE = 5\n",
        "\n",
        "# Lista para almacenar los mensajes pendientes de confirmación\n",
        "pending_messages = []\n",
        "\n",
        "def send_message(sock, msg_type, seq_num, ack_num, payload):\n",
        "  header = struct.pack('!B I I I', msg_type, seq_num, ack_num, len(payload))\n",
        "  message = header + payload.encode()\n",
        "  sock.sendall(message)\n",
        "\n",
        "def receive_message(sock):\n",
        "  header = sock.recv(13) # Tamaño de la cabecera\n",
        "  msg_type, seq_num, ack_num, length = struct.unpack('!B I I I', header)\n",
        "  payload = sock.recv(length).decode()\n",
        "  return msg_type, seq_num, ack_num, payload\n",
        "\n",
        "def simulate_tcp_connection(host, port):\n",
        "  server_sock = socket.socket(socket.AF_INET, socket.SOCK_STREAM)\n",
        "  server_sock.bind((host, port))\n",
        "  server_sock.listen(1)\n",
        "  client_sock, addr = server_sock.accept()\n",
        "\n",
        "  # Simulación del envío y recepción de mensajes\n",
        "  send_message(client_sock, 1, 100, 0, \"Hello, this is a test payload\")\n",
        "  print(\"Message sent\")\n",
        "  msg_type, seq_num, ack_num, payload = receive_message(client_sock)\n",
        "  if msg_type == PUT:  # Manejar la respuesta PUT\n",
        "        print(\"PUT Message received:\", payload)\n",
        "  client_sock.close()\n",
        "  server_sock.close()\n",
        "\n",
        "\n",
        "simulate_tcp_connection('localhost', 12345)"
      ],
      "metadata": {
        "id": "4fcYQGi-k10d"
      },
      "execution_count": null,
      "outputs": []
    },
    {
      "cell_type": "markdown",
      "source": [
        "## **Paso 3: Evaluación y Optimización**"
      ],
      "metadata": {
        "id": "Gm7-Y--LoOUK"
      }
    },
    {
      "cell_type": "markdown",
      "source": [
        "Ahora vamos a evaluar el rendimeinto usando un enfoque de prueba sistemática para diferentes condiciones de red, incluyendo alta latencia y alta pérdida de paquetes (se ha realizado algunos cambios a funciones para un correcto funcionamiento):"
      ],
      "metadata": {
        "id": "LhaezMDaoSZQ"
      }
    },
    {
      "cell_type": "code",
      "source": [
        "import socket\n",
        "import struct\n",
        "import time\n",
        "import random\n",
        "\n",
        "# Definir constantes para tipos de operaciones\n",
        "PUT = 1\n",
        "GET = 2\n",
        "DELETE = 3\n",
        "\n",
        "# Definir el tamaño de la ventana deslizante\n",
        "WINDOW_SIZE = 5\n",
        "\n",
        "# Lista para almacenar los mensajes pendientes de confirmación\n",
        "pending_messages = []\n",
        "\n",
        "def send_message(sock, msg_type, seq_num, ack_num, payload):\n",
        "    header = struct.pack('!B I I I', msg_type, seq_num, ack_num, len(payload))\n",
        "    message = header + payload.encode()\n",
        "    sock.sendall(message)\n",
        "\n",
        "def receive_message(sock):\n",
        "    header = sock.recv(13) # Tamaño de la cabecera\n",
        "    msg_type, seq_num, ack_num, length = struct.unpack('!B I I I', header)\n",
        "    payload = sock.recv(length).decode()\n",
        "    return msg_type, seq_num, ack_num, payload\n",
        "\n",
        "def simulate_tcp_connection_with_network_conditions(host, port, delay_prob=0.1, loss_prob=0.1):\n",
        "    client_sock = socket.socket(socket.AF_INET, socket.SOCK_STREAM)\n",
        "    client_sock.connect((host, port))\n",
        "    send_message(client_sock, PUT, 100, 0, \"Hello, this is a test payload\")\n",
        "    print(\"Message sent\")\n",
        "\n",
        "    if random.random() < delay_prob:\n",
        "        print(\"Simulating delay...\")\n",
        "        time.sleep(5) # Simular un retraso de 5 segundos\n",
        "\n",
        "    # Simular pérdida de paquetes\n",
        "    if random.random() < loss_prob:\n",
        "        print(\"Packet loss simulated.\")\n",
        "        return\n",
        "\n",
        "    # Recibir respuesta y procesarla\n",
        "    msg_type, seq_num, ack_num, payload = receive_message(client_sock)\n",
        "    if msg_type == PUT:  # Manejar la respuesta PUT\n",
        "        print(\"Received message:\", payload)\n",
        "    client_sock.close()\n",
        "\n",
        "def simulate_network_conditions(host, port, delay_prob=0.1, loss_prob=0.1):\n",
        "    server_sock = socket.socket(socket.AF_INET, socket.SOCK_STREAM)\n",
        "    server_sock.bind((host, port))\n",
        "    server_sock.listen(1)\n",
        "    client_sock, addr = server_sock.accept()\n",
        "\n",
        "    # Simulación del envío y recepción de mensajes con condiciones de red\n",
        "    send_message(client_sock, PUT, 100, 0, \"Hello, this is a test payload\")\n",
        "    print(\"Message sent\")\n",
        "    if random.random() < delay_prob:\n",
        "        print(\"Simulating delay...\")\n",
        "        time.sleep(5) # Simular un retraso de 5 segundos\n",
        "\n",
        "    # Simular pérdida de paquetes\n",
        "    if random.random() < loss_prob:\n",
        "        print(\"Packet loss simulated.\")\n",
        "        return\n",
        "\n",
        "    msg_type, seq_num, ack_num, payload = receive_message(client_sock)\n",
        "    if msg_type == PUT:  # Manejar la respuesta PUT\n",
        "        print(\"Received message:\", payload)\n",
        "\n",
        "    client_sock.close()\n",
        "    server_sock.close()\n",
        "\n",
        "# Ejemplo de uso\n",
        "simulate_network_conditions('localhost', 12345, delay_prob=0.2, loss_prob=0.1)"
      ],
      "metadata": {
        "id": "MjS7vLYVoOsk"
      },
      "execution_count": null,
      "outputs": []
    },
    {
      "cell_type": "markdown",
      "source": [
        "# **Problema 3: Implementación y análisis de una red segura utilizando varias herramientas**"
      ],
      "metadata": {
        "id": "xJsITc14o8tB"
      }
    },
    {
      "cell_type": "markdown",
      "source": [
        "**Contexto:** Diseña una red para una pequeña empresa que incluya servidores web, de correo\n",
        "electrónico y bases de datos. Utiliza ifconfig o ipconfig para configurar las interfaces de red,\n",
        "dig y whois para configurar los registros DNS, y cURL o wget para probar la accesibilidad de\n",
        "los servicios. Además, implementa estrategias de defensa en profundidad como zonas\n",
        "desmilitarizadas (DMZ) y subredes internas."
      ],
      "metadata": {
        "id": "XBDMORV5pbZ9"
      }
    },
    {
      "cell_type": "markdown",
      "source": [
        "## **1. Configuración de la red**\n",
        "Supongamos que estamos configurando una red que incluye un servidor web, un servidor\n",
        "de correo electrónico y un servidor de base de datos. Utilizaremos ifconfig o el moderno ip\n",
        "para configurar las interfaces de red.\n",
        "Configuración de IP estática en Linux."
      ],
      "metadata": {
        "id": "YKr3JvONqJwb"
      }
    },
    {
      "cell_type": "code",
      "source": [
        "# Configurar una dirección IP estática en la interfaz eth0\n",
        "\n",
        "!sudo ip addr add 192.168.1.100/24 dev eth0 # añade una dirección IP a la interfaz especificada.\n",
        "!sudo ip link set eth0 up # activamos la interfaz de red."
      ],
      "metadata": {
        "id": "s_QyuX5mo_6_"
      },
      "execution_count": null,
      "outputs": []
    },
    {
      "cell_type": "markdown",
      "source": [
        "## **2. Configuración de DNS con dig y whois**\n",
        "Para configurar y verificar registros DNS, así como para obtener información de dominio:"
      ],
      "metadata": {
        "id": "4kzB0lbpqpgw"
      }
    },
    {
      "cell_type": "code",
      "source": [
        "# Obtener registros A de un dominio\n",
        "!dig +short example.com A\n",
        "# Obtener información del dominio\n",
        "!whois example.com"
      ],
      "metadata": {
        "id": "1LQFCANjqoOw"
      },
      "execution_count": null,
      "outputs": []
    },
    {
      "cell_type": "markdown",
      "source": [
        "## **3. Scripting para automatización y monitoreo**"
      ],
      "metadata": {
        "id": "CPioRpR_rkT_"
      }
    },
    {
      "cell_type": "markdown",
      "source": [
        "Este script es una versión mejorada de la que se brindo en clase:\n",
        "\n",
        "* Se agregó manejo de excepciones para tratar posibles errores durante la ejecución del script.\n",
        "* La función check_server ahora ejecuta traceroute en caso de fallo de ping y envía un correo electrónico con los resultados.\n",
        "* Se agregó un bucle infinito que verifica periódicamente la disponibilidad de los servidores cada minuto."
      ],
      "metadata": {
        "id": "FlfTbeTarlvi"
      }
    },
    {
      "cell_type": "code",
      "source": [
        "import subprocess\n",
        "import smtplib\n",
        "from email.mime.text import MIMEText\n",
        "import time\n",
        "\n",
        "def send_email(message):\n",
        "    sender = \"monitor@example.com\"\n",
        "    receivers = [\"admin@example.com\"]\n",
        "    msg = MIMEText(message)\n",
        "    msg['Subject'] = \"Alerta de Red\"\n",
        "    msg['From'] = sender\n",
        "    msg['To'] = \", \".join(receivers)\n",
        "    try:\n",
        "        with smtplib.SMTP('localhost') as server:\n",
        "            server.sendmail(sender, receivers, msg.as_string())\n",
        "        print(\"Alerta enviada por email\")\n",
        "    except smtplib.SMTPException as e:\n",
        "        print(f\"Error al enviar correo electrónico: {e}\")\n",
        "\n",
        "def check_server(address):\n",
        "    try:\n",
        "        result = subprocess.run(['ping', '-c', '3', address], stdout=subprocess.PIPE, timeout=10)\n",
        "        if result.returncode != 0:\n",
        "            print(f\"Fallo en la conexión con {address}\")\n",
        "            traceroute_result = subprocess.run(['traceroute', address], stdout=subprocess.PIPE, timeout=10)\n",
        "            send_email(f\"Fallo en la conexión con {address}\\n\\nTraceroute:\\n{traceroute_result.stdout.decode('utf-8')}\")\n",
        "    except subprocess.TimeoutExpired:\n",
        "        print(f\"Tiempo de espera agotado para {address}\")\n",
        "        send_email(f\"Tiempo de espera agotado para {address}\")\n",
        "\n",
        "if __name__ == \"__main__\":\n",
        "    servers = [\"192.168.1.100\", \"192.168.1.101\", \"192.168.1.102\"]\n",
        "    while True:\n",
        "        for server in servers:\n",
        "            check_server(server)\n",
        "        # Espera 1 minuto antes de volver a verificar\n",
        "        time.sleep(60)\n"
      ],
      "metadata": {
        "id": "2c2v50cnq9R6"
      },
      "execution_count": null,
      "outputs": []
    },
    {
      "cell_type": "markdown",
      "source": [
        "## **4. Uso de cURL o wget para pruebas**"
      ],
      "metadata": {
        "id": "qqmd_hK_sYNs"
      }
    },
    {
      "cell_type": "markdown",
      "source": [
        "En el siguiente código:\n",
        "\n",
        "* Se utiliza cURL para verificar la accesibilidad de los servidores web.\n",
        "* El script verifica el código de estado HTTP devuelto por el servidor web.\n",
        "* Si el código de estado es 200 (OK), el servidor web se considera accesible.\n",
        "* Si el código de estado no es 200, se envía una alerta por correo electrónico.\n",
        "* El script se ejecuta en un bucle infinito, verificando periódicamente la accesibilidad de los servidores web."
      ],
      "metadata": {
        "id": "hDKjmLDlsYCs"
      }
    },
    {
      "cell_type": "code",
      "source": [
        "import subprocess\n",
        "import smtplib\n",
        "from email.mime.text import MIMEText\n",
        "import time\n",
        "\n",
        "def send_email(message):\n",
        "    sender = \"monitor@example.com\"\n",
        "    receivers = [\"admin@example.com\"]\n",
        "    msg = MIMEText(message)\n",
        "    msg['Subject'] = \"Alerta de Red\"\n",
        "    msg['From'] = sender\n",
        "    msg['To'] = \", \".join(receivers)\n",
        "    try:\n",
        "        with smtplib.SMTP('localhost') as server:\n",
        "            server.sendmail(sender, receivers, msg.as_string())\n",
        "        print(\"Alerta enviada por email\")\n",
        "    except smtplib.SMTPException as e:\n",
        "        print(f\"Error al enviar correo electrónico: {e}\")\n",
        "\n",
        "def check_server(address):\n",
        "    try:\n",
        "        # Verificar la accesibilidad del servidor web con cURL\n",
        "        curl_output = subprocess.check_output(['curl', '-o', '/dev/null', '-s', '-w', '%{http_code}', address])\n",
        "        http_status_code = int(curl_output.decode('utf-8'))\n",
        "        if http_status_code == 200:\n",
        "            print(f\"Servidor web accesible: {address}\")\n",
        "        else:\n",
        "            print(f\"Error: HTTP status code {http_status_code} al acceder a {address}\")\n",
        "            send_email(f\"Error: HTTP status code {http_status_code} al acceder a {address}\")\n",
        "    except subprocess.CalledProcessError as e:\n",
        "        print(f\"Error al ejecutar cURL: {e}\")\n",
        "        send_email(f\"Error al ejecutar cURL: {e}\")\n",
        "\n",
        "if __name__ == \"__main__\":\n",
        "    servers = [\"http://192.168.1.100\", \"http://192.168.1.101\", \"http://192.168.1.102\"]\n",
        "    while True:\n",
        "        for server in servers:\n",
        "            check_server(server)\n",
        "        # Espera 1 minuto antes de volver a verificar\n",
        "        time.sleep(60)"
      ],
      "metadata": {
        "id": "qxOO2vqGsWh8"
      },
      "execution_count": null,
      "outputs": []
    },
    {
      "cell_type": "markdown",
      "source": [
        "## **5. Implementar seguridad**\n",
        "Podríamos configurar firewalls utilizando iptables para limitar el acceso no autorizado a los\n",
        "servicios:"
      ],
      "metadata": {
        "id": "Ol7mG6mhswBv"
      }
    },
    {
      "cell_type": "code",
      "source": [
        "# Bloquear todo el tráfico excepto el que viene de las IPs autorizadas\n",
        "!sudo iptables -A INPUT -p tcp -s 192.168.1.0/24 -j ACCEPT\n",
        "!sudo iptables -A INPUT -p tcp -j DROP"
      ],
      "metadata": {
        "id": "AZLlmWDQsupn"
      },
      "execution_count": null,
      "outputs": []
    },
    {
      "cell_type": "markdown",
      "source": [
        "# **Problema 4: Desarrollo de un script para monitoreo y alerta de red**"
      ],
      "metadata": {
        "id": "GRIvaasBs3Wn"
      }
    },
    {
      "cell_type": "markdown",
      "source": [
        "**Problema**: Escribe un script utilizando bash o python que utilice herramientas como ping,\n",
        "traceroute, y nslookup para monitorear la disponibilidad de varios servidores críticos. El\n",
        "script debe registrar cualquier anomalía y enviar alertas automáticas si detecta problemas\n",
        "como tiempos de respuesta elevados o pérdida de paquetes."
      ],
      "metadata": {
        "id": "UdGwoSv9s7w2"
      }
    },
    {
      "cell_type": "markdown",
      "source": [
        "En este código:\n",
        "\n",
        "* Las credenciales del servidor SMTP se obtienen de variables de entorno para mantenerlas seguras.\n",
        "* Se implementa un bucle de reintento en caso de que ocurran errores temporales, con un retraso entre intentos.\n",
        "* El código está listo para expandirse añadiendo más comprobaciones, como verificar puertos específicos con nmap o comprobar la carga de los servidores con ssh y comandos como top."
      ],
      "metadata": {
        "id": "vmiQia3PuCOn"
      }
    },
    {
      "cell_type": "code",
      "source": [
        "import subprocess\n",
        "import smtplib\n",
        "from email.mime.text import MIMEText\n",
        "import datetime\n",
        "import os\n",
        "import time\n",
        "\n",
        "def send_email(subject, message):\n",
        "    sender = os.getenv('SENDER_EMAIL')\n",
        "    receivers = os.getenv('RECEIVER_EMAIL').split(',')\n",
        "    smtp_server = os.getenv('SMTP_SERVER')\n",
        "    smtp_port = os.getenv('SMTP_PORT')\n",
        "    smtp_username = os.getenv('SMTP_USERNAME')\n",
        "    smtp_password = os.getenv('SMTP_PASSWORD')\n",
        "\n",
        "    msg = MIMEText(message)\n",
        "    msg['Subject'] = subject\n",
        "    msg['From'] = sender\n",
        "    msg['To'] = \", \".join(receivers)\n",
        "\n",
        "    # Configurar el servidor SMTP según la configuración segura\n",
        "    server = smtplib.SMTP(smtp_server, smtp_port)\n",
        "    server.starttls()\n",
        "    server.login(smtp_username, smtp_password)\n",
        "    server.sendmail(sender, receivers, msg.as_string())\n",
        "    server.quit()\n",
        "    print(\"Alerta enviada por correo electrónico\")\n",
        "\n",
        "def check_server(address):\n",
        "    response = subprocess.run(['ping', '-c', '3', address], stdout=subprocess.PIPE, text=True)\n",
        "    if response.returncode != 0:\n",
        "        now = datetime.datetime.now()\n",
        "        message = f\"Fallo de ping a {address} el {now.strftime('%Y-%m-%d %H:%M:%S')}\"\n",
        "        send_email(\"Alerta de Fallo de Red\", message)\n",
        "        log_event(message)\n",
        "    else:\n",
        "        print(f\"{address} está activo\")\n",
        "\n",
        "def trace_route(address):\n",
        "    result = subprocess.run(['traceroute', address], stdout=subprocess.PIPE, text=True)\n",
        "    log_event(f\"Traceroute a {address}:\\n{result.stdout}\")\n",
        "\n",
        "def log_event(message):\n",
        "    with open(\"network_monitor_log.txt\", \"a\") as file:\n",
        "        file.write(message + \"\\n\")\n",
        "\n",
        "if __name__ == \"__main__\":\n",
        "    servers = [\"192.168.1.100\", \"192.168.1.101\", \"192.168.1.102\"]\n",
        "    retry_attempts = 3\n",
        "    retry_delay = 10\n",
        "\n",
        "    while True:\n",
        "        for server in servers:\n",
        "            for attempt in range(retry_attempts):\n",
        "                try:\n",
        "                    check_server(server)\n",
        "                    trace_route(server)\n",
        "                    break  # Éxito, salir del bucle de reintento\n",
        "                except Exception as e:\n",
        "                    print(f\"Error: {e}. Reintentando en {retry_delay} segundos...\")\n",
        "                    time.sleep(retry_delay)\n",
        "                    continue\n",
        "        time.sleep(300)  # Esperar 5 minutos antes de volver a verificar"
      ],
      "metadata": {
        "id": "CT7LPudus5No"
      },
      "execution_count": null,
      "outputs": []
    },
    {
      "cell_type": "markdown",
      "source": [],
      "metadata": {
        "id": "TNoKt5knuWrZ"
      }
    }
  ]
}