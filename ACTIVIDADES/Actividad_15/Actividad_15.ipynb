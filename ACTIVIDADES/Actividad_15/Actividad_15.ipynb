{
  "nbformat": 4,
  "nbformat_minor": 0,
  "metadata": {
    "colab": {
      "provenance": [],
      "collapsed_sections": [
        "NQUc2gl91jeT",
        "74tNKoHm5iZI",
        "U_qaXqeb7McC",
        "RunswRjl808j",
        "3M5B2cD5-6ZI"
      ]
    },
    "kernelspec": {
      "name": "python3",
      "display_name": "Python 3"
    },
    "language_info": {
      "name": "python"
    }
  },
  "cells": [
    {
      "cell_type": "markdown",
      "source": [
        "Trabajo elaborado grupalmente por:\n",
        "\n",
        "Estudiante 1: antony.mendoza@upch.pe\n",
        "\n",
        "Estudiante 2: JOHN.RODRIGUES@UPCH.PE\n",
        "\n",
        "Estudiante 3: LEILY.LLANOS@UPCH.PE"
      ],
      "metadata": {
        "id": "LyMZz-j_TtRb"
      }
    },
    {
      "cell_type": "markdown",
      "source": [
        "# **Problema 1: Diseño de un sistema de distribución de contenidos (CDN)**"
      ],
      "metadata": {
        "id": "NQUc2gl91jeT"
      }
    },
    {
      "cell_type": "markdown",
      "source": [
        "Describa cómo diseñaría un CDN para un servicio en línea que experimenta una carga de\n",
        "tráfico global y diversa. Incluya consideraciones como la ubicación de los servidores,\n",
        "políticas de equilibrio de carga, y cómo manejaría la resolución de nombres de dominio\n",
        "(DNS) para redirigir el tráfico de manera eficiente."
      ],
      "metadata": {
        "id": "9Wqt3yfp3XEp"
      }
    },
    {
      "cell_type": "code",
      "source": [
        "!pip install flask_caching"
      ],
      "metadata": {
        "id": "0aaNlna_4eDv"
      },
      "execution_count": null,
      "outputs": []
    },
    {
      "cell_type": "markdown",
      "source": [
        "* En este código mejorado, se utiliza Flask-Caching para gestionar la caché de manera más eficiente.\n",
        "\n",
        "* También se incorpora una solicitud a un servidor de origen simulado para obtener el contenido.\n",
        "\n",
        "* Para un entorno de producción, se recomienda cambiar a un sistema de caché distribuido y agregar más características de monitoreo y optimización continua.\n",
        "\n",
        "* Se implementa una arquitectura básica con un servidor de borde (implementado en Flask) que sirve como punto de entrada para las solicitudes de contenido.\n",
        "\n",
        "* El código no incluye políticas de balanceo de carga explícitas, pero distribuye el tráfico entre el servidor de origen y los servidores de borde mediante solicitudes HTTP."
      ],
      "metadata": {
        "id": "JZB7EmW_4xUM"
      }
    },
    {
      "cell_type": "code",
      "source": [
        "from flask import Flask\n",
        "from flask_caching import Cache\n",
        "import requests\n",
        "\n",
        "app = Flask(__name__)\n",
        "cache = Cache(app, config={'CACHE_TYPE': 'simple'})  # Cambiar a un sistema de caché distribuido para producción\n",
        "\n",
        "# Configuración para la caché\n",
        "CACHE_TIMEOUT = 300  # Tiempo de vida de la caché en segundos\n",
        "\n",
        "@app.route('/<path:path>', methods=['GET'])\n",
        "@cache.cached(timeout=CACHE_TIMEOUT)\n",
        "def get_content(path):\n",
        "    # Obtener el contenido del servidor de origen\n",
        "    origin_content = fetch_from_origin(path)\n",
        "    return origin_content\n",
        "\n",
        "def fetch_from_origin(path):\n",
        "    # Lógica para obtener el contenido del servidor de origen\n",
        "    # Esta función puede simular la descarga de contenido de una base de datos, sistema de\n",
        "    # archivos, o servidor remoto\n",
        "    origin_url = f\"http://example.com/{path}\"  # URL del servidor de origen\n",
        "    response = requests.get(origin_url)\n",
        "    if response.status_code == 200:\n",
        "        return response.content\n",
        "    else:\n",
        "        return f\"Error al obtener contenido del servidor de origen: {response.status_code}\"\n",
        "\n",
        "if __name__ == '__main__':\n",
        "    app.run(debug=True)\n"
      ],
      "metadata": {
        "id": "aGRisfM23aj5"
      },
      "execution_count": null,
      "outputs": []
    },
    {
      "cell_type": "markdown",
      "source": [
        "# **Problema 2: Implementación de un servidor autoritario de DNS**"
      ],
      "metadata": {
        "id": "74tNKoHm5iZI"
      }
    },
    {
      "cell_type": "markdown",
      "source": [
        "Desarrolle un servidor de nombres de dominio (DNS) autoritario capaz de manejar consultas\n",
        "para un dominio específico. El servidor debe ser capaz de almacenar y mantener registros\n",
        "de recursos (RR) como A, AAAA, CNAME, MX, etc., y responder de manera eficiente a las\n",
        "consultas DNS entrantes."
      ],
      "metadata": {
        "id": "UL4Nys6F_QHn"
      }
    },
    {
      "cell_type": "code",
      "source": [
        "!pip install dnspython"
      ],
      "metadata": {
        "colab": {
          "base_uri": "https://localhost:8080/"
        },
        "id": "XMdf3wD26Apg",
        "outputId": "58e6753b-c120-43e2-bfa5-6bfdef53749a"
      },
      "execution_count": null,
      "outputs": [
        {
          "output_type": "stream",
          "name": "stdout",
          "text": [
            "Collecting dnspython\n",
            "  Downloading dnspython-2.6.1-py3-none-any.whl (307 kB)\n",
            "\u001b[?25l     \u001b[90m━━━━━━━━━━━━━━━━━━━━━━━━━━━━━━━━━━━━━━━━\u001b[0m \u001b[32m0.0/307.7 kB\u001b[0m \u001b[31m?\u001b[0m eta \u001b[36m-:--:--\u001b[0m\r\u001b[2K     \u001b[91m━━━━━━━━━━━━━━━━━━━━━━━━━━━━━━━━━━━\u001b[0m\u001b[91m╸\u001b[0m\u001b[90m━━━━\u001b[0m \u001b[32m276.5/307.7 kB\u001b[0m \u001b[31m8.1 MB/s\u001b[0m eta \u001b[36m0:00:01\u001b[0m\r\u001b[2K     \u001b[90m━━━━━━━━━━━━━━━━━━━━━━━━━━━━━━━━━━━━━━━━\u001b[0m \u001b[32m307.7/307.7 kB\u001b[0m \u001b[31m6.4 MB/s\u001b[0m eta \u001b[36m0:00:00\u001b[0m\n",
            "\u001b[?25hInstalling collected packages: dnspython\n",
            "Successfully installed dnspython-2.6.1\n"
          ]
        }
      ]
    },
    {
      "cell_type": "code",
      "source": [
        "import socket\n",
        "import dns.message\n",
        "import dns.rdatatype\n",
        "import dns.rdataclass\n",
        "import dns.flags"
      ],
      "metadata": {
        "id": "W8zFVqlT61Az"
      },
      "execution_count": null,
      "outputs": []
    },
    {
      "cell_type": "markdown",
      "source": [
        "## **1. Integración de la estructura de datos para almacenar registros de recursos:**"
      ],
      "metadata": {
        "id": "0ZsRnZvd651a"
      }
    },
    {
      "cell_type": "code",
      "source": [
        "class DNSRecord:\n",
        "    def __init__(self, record_type, value, ttl):\n",
        "        self.record_type = record_type\n",
        "        self.value = value\n",
        "        self.ttl = ttl\n",
        "\n",
        "class DNSZone:\n",
        "    def __init__(self, domain):\n",
        "        self.domain = domain\n",
        "        self.records = {}\n",
        "\n",
        "    def add_record(self, name, record_type, value, ttl):\n",
        "        if name not in self.records:\n",
        "            self.records[name] = []\n",
        "        self.records[name].append(DNSRecord(record_type, value, ttl))\n",
        "\n",
        "    def get_records(self, name):\n",
        "        return self.records.get(name, [])"
      ],
      "metadata": {
        "id": "svB7jzUz67zi"
      },
      "execution_count": null,
      "outputs": []
    },
    {
      "cell_type": "markdown",
      "source": [
        "## **2. Implementación de la función process_dns_query para procesar consultas DNS:**"
      ],
      "metadata": {
        "id": "D3ehQycM696S"
      }
    },
    {
      "cell_type": "code",
      "source": [
        "def process_dns_query(query_message, dns_zone):\n",
        "    response_message = dns.message.make_response(query_message)\n",
        "    question = query_message.question[0]\n",
        "    qname = str(question.name)\n",
        "    qtype = question.rdtype\n",
        "    answers = dns_zone.get_records(qname)\n",
        "\n",
        "    if answers:\n",
        "        for answer in answers:\n",
        "            if answer.record_type == qtype:\n",
        "                response_message.answer.append(dns.rdtypes.IN.from_text(qname, answer.ttl, dns.rdataclass.IN, qtype, answer.value))\n",
        "                response_message.flags |= dns.flags.AA\n",
        "                return response_message\n",
        "\n",
        "    # Si no se encontraron registros, responder con NXDOMAIN\n",
        "    response_message.set_rcode(dns.rcode.NXDOMAIN)\n",
        "    return response_message"
      ],
      "metadata": {
        "id": "gdgmYx9W7ADC"
      },
      "execution_count": null,
      "outputs": []
    },
    {
      "cell_type": "markdown",
      "source": [
        "## **3. Actualización de la función principal main para integrar el procesamiento de consultas DNS:**"
      ],
      "metadata": {
        "id": "9DE1Aume7CMq"
      }
    },
    {
      "cell_type": "code",
      "source": [
        "def main():\n",
        "    server_address = '127.0.0.1'\n",
        "    server_port = 53\n",
        "    dns_zone = DNSZone(\"example.com\")  # Crear una zona DNS para el dominio autoritativo\n",
        "    dns_zone.add_record(\"www.example.com\", dns.rdatatype.A, \"192.0.2.1\", 300)  # Agregar registros de ejemplo\n",
        "\n",
        "    server_socket = socket.socket(socket.AF_INET, socket.SOCK_DGRAM)\n",
        "    server_socket.bind((server_address, server_port))\n",
        "\n",
        "    print(\"DNS server listening on {}:{}\".format(server_address, server_port))\n",
        "\n",
        "    while True:\n",
        "        query_data, client_address = server_socket.recvfrom(1024)\n",
        "        query_message = dns.message.from_wire(query_data)\n",
        "        response_message = process_dns_query(query_message, dns_zone)\n",
        "        server_socket.sendto(response_message.to_wire(), client_address)\n",
        "\n",
        "    server_socket.close()\n",
        "\n",
        "if __name__ == \"__main__\":\n",
        "    main()\n"
      ],
      "metadata": {
        "id": "j6fwYwI97FHV"
      },
      "execution_count": null,
      "outputs": []
    },
    {
      "cell_type": "markdown",
      "source": [
        "Este servidor DNS básico puede recibir consultas DNS entrantes y responder con registros de recursos adecuados si están disponibles en su base de datos."
      ],
      "metadata": {
        "id": "ZLw0tL7a7LDi"
      }
    },
    {
      "cell_type": "markdown",
      "source": [
        "# **Problema 3: Diseño de un sistema de gestión de dominios (DNS)**"
      ],
      "metadata": {
        "id": "U_qaXqeb7McC"
      }
    },
    {
      "cell_type": "markdown",
      "source": [
        "Diseñe un sistema de gestión de dominios que incluya registradores de dominios,\n",
        "servidores de nombres, servidores maestros y esclavos, y clientes de DNS. Explique cómo\n",
        "estos componentes interactúan entre sí y cómo se garantiza la coherencia y la\n",
        "disponibilidad del sistema."
      ],
      "metadata": {
        "id": "pCpWtQx8_NDf"
      }
    },
    {
      "cell_type": "markdown",
      "source": [
        "Las mejoras implementadas en el código:\n",
        "\n",
        "+ Caché de consultas resueltas: Se agregó un sistema de caché para almacenar las consultas DNS resueltas y evitar acceder repetidamente a la base de datos para los mismos dominios.\n",
        "\n",
        "+ Uso de estructuras de datos eficientes: Se utilizan diccionarios en lugar de listas para almacenar la información de los dominios en la base de datos y en la caché. Los diccionarios tienen una búsqueda más rápida que las listas, lo que mejora la eficiencia del sistema.\n",
        "\n",
        "+ Limpieza de la caché: Se implementa la limpieza adecuada de la caché al registrar un nuevo dominio para asegurarse de que las consultas resueltas previamente se eliminen de la caché y se actualicen correctamente."
      ],
      "metadata": {
        "id": "4egl_FAm8jkz"
      }
    },
    {
      "cell_type": "code",
      "source": [
        "from flask import Flask, request, jsonify\n",
        "\n",
        "app = Flask(__name__)\n",
        "\n",
        "# Base de datos ficticia para almacenar los dominios y registros de recursos\n",
        "domain_database = {}\n",
        "\n",
        "# Caché para almacenar las consultas resueltas\n",
        "cache = {}\n",
        "\n",
        "@app.route('/register', methods=['POST'])\n",
        "def register_domain():\n",
        "    domain_name = request.json.get('domain_name')\n",
        "    ip_address = request.json.get('ip_address')\n",
        "\n",
        "    # Verificar si el dominio ya está registrado\n",
        "    if domain_name in domain_database:\n",
        "        return jsonify({'message': 'Domain already registered'}), 400\n",
        "\n",
        "    # Registrar el nuevo dominio\n",
        "    domain_database[domain_name] = ip_address\n",
        "\n",
        "    # Limpiar la entrada de caché para este dominio (si existe)\n",
        "    cache.pop(domain_name, None)\n",
        "\n",
        "    return jsonify({'message': 'Domain registered successfully'}), 200\n",
        "\n",
        "@app.route('/resolve/<domain_name>', methods=['GET'])\n",
        "def resolve_domain(domain_name):\n",
        "    # Verificar si el dominio está en caché\n",
        "    if domain_name in cache:\n",
        "        return jsonify(cache[domain_name]), 200\n",
        "\n",
        "    # Verificar si el dominio está registrado\n",
        "    if domain_name not in domain_database:\n",
        "        return jsonify({'message': 'Domain not found'}), 404\n",
        "\n",
        "    # Obtener la dirección IP asociada con el dominio\n",
        "    ip_address = domain_database[domain_name]\n",
        "\n",
        "    # Guardar en caché la consulta resuelta\n",
        "    cache[domain_name] = {'domain': domain_name, 'ip_address': ip_address}\n",
        "\n",
        "    return jsonify(cache[domain_name]), 200\n",
        "\n",
        "if __name__ == '__main__':\n",
        "    app.run(debug=True)"
      ],
      "metadata": {
        "id": "STCy-eIA7POF"
      },
      "execution_count": null,
      "outputs": []
    },
    {
      "cell_type": "markdown",
      "source": [
        "Con estas mejoras, se ha logrado que el sistema sea más eficiente y óptimo, reduciendo el tiempo de respuesta y la carga en el servidor al minimizar las consultas repetidas a la base de datos."
      ],
      "metadata": {
        "id": "8OPXF1WC8vd3"
      }
    },
    {
      "cell_type": "markdown",
      "source": [
        "# **Problema 4: Optimización de la resolución de nombres de dominio (DNS)**"
      ],
      "metadata": {
        "id": "RunswRjl808j"
      }
    },
    {
      "cell_type": "markdown",
      "source": [
        "Proponga estrategias para optimizar la resolución de nombres de dominio (DNS) en un\n",
        "entorno de red de alta latencia y alta demanda. Considere técnicas como la prefetching\n",
        "DNS, la resolución iterativa, el caching DNS y las políticas de equilibrio de carga basadas\n",
        "en la geolocalización y la latencia."
      ],
      "metadata": {
        "id": "m64U5sIV_KFP"
      }
    },
    {
      "cell_type": "markdown",
      "source": [
        "Estrategias implementadas:\n",
        "\n",
        "* Caching DNS: Se utiliza una caché DNS local para almacenar en caché los resultados de las consultas DNS y reducir la latencia al evitar consultas repetitivas.\n",
        "\n",
        "* Configuración de TTL (Tiempo de Vida): Se establece un TTL predeterminado para los registros almacenados en caché, lo que ayuda a controlar la duración de los registros en la caché y a garantizar que los datos sean actualizados periódicamente.\n",
        "\n",
        "* Manejo de errores: Se implementa un manejo de errores robusto para manejar situaciones como la falta de respuesta del servidor DNS, la inexistencia del dominio, etc., proporcionando mensajes claros al usuario.\n",
        "\n"
      ],
      "metadata": {
        "id": "kj7ana9V-hHb"
      }
    },
    {
      "cell_type": "code",
      "source": [
        "import dns.resolver\n",
        "\n",
        "# Configuración de TTL predeterminado\n",
        "DEFAULT_TTL = 3600  # segundos\n",
        "\n",
        "# Configuración de caché DNS local\n",
        "dns_cache = {}\n",
        "\n",
        "def dns_lookup(domain_name):\n",
        "    try:\n",
        "        # Verificar si el registro está en la caché local\n",
        "        if domain_name in dns_cache:\n",
        "            ip_addresses = dns_cache[domain_name]\n",
        "            print('IP Addresses (from cache) for', domain_name, ':', ip_addresses)\n",
        "        else:\n",
        "            # Realizar una consulta DNS para el nombre de dominio dado\n",
        "            result = dns.resolver.resolve(domain_name, 'A')\n",
        "            ip_addresses = [ip_address.to_text() for ip_address in result]\n",
        "            print('IP Addresses for', domain_name, ':', ip_addresses)\n",
        "            # Almacenar en caché el resultado con TTL predeterminado\n",
        "            dns_cache[domain_name] = ip_addresses\n",
        "\n",
        "    except dns.resolver.NoAnswer:\n",
        "        print('No se encontraron registros de recursos para el dominio:', domain_name)\n",
        "    except dns.resolver.NXDOMAIN:\n",
        "        print('El dominio no existe:', domain_name)\n",
        "    except dns.exception.Timeout:\n",
        "        print('La consulta DNS ha excedido el tiempo de espera:', domain_name)\n",
        "    except Exception as e:\n",
        "        print('Error al resolver el dominio:', e)\n",
        "\n",
        "if __name__ == \"__main__\":\n",
        "    domain_name = 'example.com'\n",
        "    dns_lookup(domain_name)"
      ],
      "metadata": {
        "id": "n3YtMu1Z9Bap"
      },
      "execution_count": null,
      "outputs": []
    },
    {
      "cell_type": "markdown",
      "source": [
        "# **Problema 5: Implementación de un sistema de registro de dominios**"
      ],
      "metadata": {
        "id": "3M5B2cD5-6ZI"
      }
    },
    {
      "cell_type": "markdown",
      "source": [
        "Desarrolle un sistema de registro de dominios que permita a los usuarios registrar y\n",
        "gestionar nombres de dominio de manera eficiente. Incluye funcionalidades como la\n",
        "verificación de disponibilidad de dominios, la renovación automática, y la gestión de\n",
        "registros de recursos (RR) como SPF y MX."
      ],
      "metadata": {
        "id": "yOGRimAD_HJ4"
      }
    },
    {
      "cell_type": "markdown",
      "source": [
        "Las mejoras implementadas en el servidor DNS:\n",
        "\n",
        "* Conexión a la base de datos SQLite: Se conecta a la base de datos registros_rr.db para almacenar registros de recursos.\n",
        "\n",
        "* Función process_dns_query: Se modifica para buscar registros de recursos asociados al nombre de dominio solicitado y construir una respuesta DNS.\n",
        "\n",
        "* Bucle principal en main: El servidor espera y procesa solicitudes DNS continuamente.\n",
        "\n",
        "* Recepción y envío de solicitudes DNS: El servidor recibe y procesa solicitudes DNS entrantes, enviando respuestas correspondientes.\n",
        "\n",
        "* Configuración del bit de autoridad: Se establece el bit de autoridad en la respuesta DNS para indicar la fuente autoritativa.\n",
        "\n",
        "* Manejo básico de errores: Aunque no se muestra explícitamente, se manejan errores y excepciones para garantizar la estabilidad del servidor DNS."
      ],
      "metadata": {
        "id": "fSfraDAMBbpC"
      }
    },
    {
      "cell_type": "code",
      "source": [
        "import dns.message\n",
        "import dns.rdatatype\n",
        "import dns.rdataclass\n",
        "import dns.flags\n",
        "import dns.query\n",
        "import sqlite3\n",
        "\n",
        "# Conexión a la base de datos SQLite\n",
        "conn = sqlite3.connect('registros_rr.db')\n",
        "cursor = conn.cursor()\n",
        "\n",
        "def process_dns_query(query_message):\n",
        "    # Obtener el nombre de dominio solicitado en la consulta\n",
        "    domain_name = query_message.question[0].name.to_text()\n",
        "\n",
        "    # Buscar en la base de datos de registros de recursos para obtener los RR asociados al dominio\n",
        "    cursor.execute(\"SELECT type, data FROM registros_rr WHERE domain=?\", (domain_name,))\n",
        "    rr_records = cursor.fetchall()\n",
        "\n",
        "    # Construir la respuesta DNS\n",
        "    response = dns.message.make_response(query_message)\n",
        "    response.flags |= dns.flags.AA  # Setea el bit de autoridad\n",
        "\n",
        "    # Agregar los RR a la respuesta\n",
        "    for rr_type, rr_data in rr_records:\n",
        "        rr_type = dns.rdatatype.from_text(rr_type)\n",
        "        rr_class = dns.rdataclass.IN\n",
        "        rr_rdata = dns.rdata.from_text(rr_class, rr_type, rr_data)\n",
        "        rrset = dns.rrset.from_text(domain_name, 3600, rr_class, rr_type, rr_rdata)\n",
        "        response.answer.append(rrset)\n",
        "\n",
        "    return response\n",
        "\n",
        "def main():\n",
        "    server_address = '127.0.0.1'\n",
        "    server_port = 53\n",
        "    server_socket = socket.socket(socket.AF_INET, socket.SOCK_DGRAM)\n",
        "    server_socket.bind((server_address, server_port))\n",
        "\n",
        "    while True:\n",
        "        # Recibir y procesar solicitudes DNS entrantes\n",
        "        query_data, client_address = server_socket.recvfrom(1024)\n",
        "        query_message = dns.message.from_wire(query_data)\n",
        "        response_message = process_dns_query(query_message)\n",
        "\n",
        "        # Enviar respuesta al cliente DNS\n",
        "        server_socket.sendto(response_message.to_wire(), client_address)\n",
        "\n",
        "if __name__ == \"__main__\":\n",
        "    main()\n"
      ],
      "metadata": {
        "id": "nWIRyGNG-8M3"
      },
      "execution_count": null,
      "outputs": []
    }
  ]
}