{
  "nbformat": 4,
  "nbformat_minor": 0,
  "metadata": {
    "colab": {
      "provenance": [],
      "collapsed_sections": [
        "NBHVg3G9a04p",
        "XrwejEOQbAJn",
        "PmP0u3OkbV3G",
        "RbHnxagQcwnM",
        "KejGfAIjeTzi",
        "DETjWsuHeXAZ",
        "7A21ICXaebTa",
        "Dzr6eW4G6qDm",
        "VOvr4hvx6uBn",
        "6ilYrQbk6w8P",
        "6EGhJCaO61mP",
        "eEnTEbZFUaNf"
      ]
    },
    "kernelspec": {
      "name": "python3",
      "display_name": "Python 3"
    },
    "language_info": {
      "name": "python"
    }
  },
  "cells": [
    {
      "cell_type": "markdown",
      "source": [
        "Trabajo elaborado grupalmente por:\n",
        "\n",
        "Estudiante 1: antony.mendoza@upch.pe\n",
        "\n",
        "Estudiante 2: JOHN.RODRIGUES@UPCH.PE\n",
        "\n",
        "Estudiante 3: LEILY.LLANOS@UPCH.PE"
      ],
      "metadata": {
        "id": "E5PiVB6FU5Gq"
      }
    },
    {
      "cell_type": "markdown",
      "source": [
        "# **PROBLEMA 1**\n"
      ],
      "metadata": {
        "id": "NBHVg3G9a04p"
      }
    },
    {
      "cell_type": "markdown",
      "source": [
        "**Contexto**: Una empresa necesita diseñar un sistema de correo electrónico robusto que\n",
        "utilice SMTP, IMAP, y SSL/TLS para la entrega y recuperación segura de correo electrónico."
      ],
      "metadata": {
        "id": "bU4IO6a1Z2H3"
      }
    },
    {
      "cell_type": "code",
      "source": [
        "import smtplib\n",
        "from email.mime.text import MIMEText\n",
        "import imaplib\n",
        "import ssl"
      ],
      "metadata": {
        "id": "Yag2UCk6a3Hm"
      },
      "execution_count": null,
      "outputs": []
    },
    {
      "cell_type": "markdown",
      "source": [
        "## **Paso 1: Configuración del servidor SMTP y IMAP en Python**"
      ],
      "metadata": {
        "id": "XrwejEOQbAJn"
      }
    },
    {
      "cell_type": "code",
      "source": [
        "# 3l siguiente código está mejorado en base al ejemplo brindado de la actividad"
      ],
      "metadata": {
        "id": "AUSrihTWzQuI"
      },
      "execution_count": null,
      "outputs": []
    },
    {
      "cell_type": "code",
      "source": [
        "def setup_smtp_server(smtp_port=465): ## se usa este puerto cuando vamos a enviar correos\n",
        "    try:\n",
        "        context = ssl.create_default_context(ssl.Purpose.CLIENT_AUTH)\n",
        "        context.load_cert_chain(certfile=\"certificado.pem\", keyfile=\"clave.pem\")\n",
        "        server = smtplib.SMTP_SSL('smtp.gmail.com', smtp_port, context=context)\n",
        "        server.login('user@example.com', 'password') # ingresa el correo yc contraseña desde donde enviarias un e-mail\n",
        "        return server\n",
        "    except Exception as e:\n",
        "        print(\"Error en la conexión SMTP:\", e)\n",
        "        return None\n",
        "\n",
        "def send_email(server):\n",
        "    try:\n",
        "        msg = MIMEText(\"Este es un correo electrónico automático de prueba.\")\n",
        "        msg['Subject'] = \"Correo electrónico automático\"\n",
        "        msg['From'] = 'user@example.com' # ingresa el correo desde donde enviarias un e-mail\n",
        "        msg['To'] = 'recipient@example.com' # ingresa el correo de destino\n",
        "        server.send_message(msg)\n",
        "        print(\"Correo electrónico enviado\")\n",
        "    except Exception as e:\n",
        "        print(\"Error al enviar el correo:\", e)\n",
        "    finally:\n",
        "        if server:\n",
        "            server.quit()\n",
        "\n",
        "def setup_imap_server(imap_port=993):\n",
        "    try:\n",
        "        context = ssl.create_default_context(ssl.Purpose.CLIENT_AUTH)\n",
        "        context.load_cert_chain(certfile=\"certificado.pem\", keyfile=\"clave.pem\")\n",
        "        mail = imaplib.IMAP4_SSL('imap.gmail.com', imap_port, context=context)\n",
        "        mail.login('user@example.com', 'password') # ingresa el correo yc contraseña desde donde enviarias un e-mail\n",
        "        return mail\n",
        "    except Exception as e:\n",
        "        print(\"Error en la conexión IMAP:\", e)\n",
        "        return None\n",
        "\n",
        "def fetch_emails(mail, folder='inbox'):\n",
        "    try:\n",
        "        mail.select(folder)\n",
        "        result, data = mail.search(None, 'ALL')\n",
        "        mail_ids = data[0]\n",
        "        id_list = mail_ids.split()\n",
        "        latest_email_id = id_list[-1]\n",
        "        result, data = mail.fetch(latest_email_id, '(RFC822)')\n",
        "        raw_email = data[0][1]\n",
        "        print(raw_email.decode('utf-8'))\n",
        "    except Exception as e:\n",
        "        print(\"Error al recuperar correos electrónicos:\", e)\n",
        "    finally:\n",
        "        if mail:\n",
        "            mail.logout()"
      ],
      "metadata": {
        "id": "L9Jj-mEQbF4V"
      },
      "execution_count": null,
      "outputs": []
    },
    {
      "cell_type": "code",
      "source": [],
      "metadata": {
        "id": "6I2XEYtlbUdr"
      },
      "execution_count": null,
      "outputs": []
    },
    {
      "cell_type": "markdown",
      "source": [
        "## **Paso 2: Implementación de SSL/TLS**"
      ],
      "metadata": {
        "id": "PmP0u3OkbV3G"
      }
    },
    {
      "cell_type": "markdown",
      "source": [
        "En la función `setup_smtp_server` se ha configurado una conexión **SMTP** segura con Gmail en el puerto 465. Establece una conexión usando `smtplib.SMTP_SSL`, inicia sesión con credenciales y devuelve el objeto del servidor si tiene éxito."
      ],
      "metadata": {
        "id": "xiqwJS1BcFnE"
      }
    },
    {
      "cell_type": "markdown",
      "source": [
        "En la función `setup_imap_server` se configurado una conexión **IMAP** segura con Gmail. Utiliza `imaplib.IMAP4_SSL` para conectarse, inicia sesión con credenciales y devuelve el objeto de conexión si tiene éxito."
      ],
      "metadata": {
        "id": "CUXj97TNcMGL"
      }
    },
    {
      "cell_type": "markdown",
      "source": [
        "## **Paso 3: Manejo de Certificados X.509**"
      ],
      "metadata": {
        "id": "RbHnxagQcwnM"
      }
    },
    {
      "cell_type": "code",
      "source": [
        "smtp_server = setup_smtp_server()\n",
        "if smtp_server:\n",
        "    send_email(smtp_server)\n",
        "    smtp_server.quit()\n",
        "    print(\"Correo electrónico automático enviado\")"
      ],
      "metadata": {
        "id": "u8DcRwy9bq0Q"
      },
      "execution_count": null,
      "outputs": []
    },
    {
      "cell_type": "markdown",
      "source": [
        "## **Paso 4: Discusión sobre DHCP y NAT**"
      ],
      "metadata": {
        "id": "TetVPRdlbxaT"
      }
    },
    {
      "cell_type": "markdown",
      "source": [
        "La asignación de direcciones IP dinámicas a través de **DHCP** y la traducción de direcciones **IP** realizada por **NAT** pueden complicar el acceso a los servidores de correo. Para solucionar este problema, se pueden implementar soluciones como la configuración de **NAT estático**, que asigna una dirección **IP pública fija** al servidor de correo, o el uso de servicios **DNS dinámicos** que asocien un nombre de dominio al servidor y actualicen automáticamente su dirección **IP**, facilitando así el acceso desde el exterior de la red local."
      ],
      "metadata": {
        "id": "FGZcbkW_dka1"
      }
    },
    {
      "cell_type": "code",
      "source": [],
      "metadata": {
        "id": "rKbajZWOb0Z0"
      },
      "execution_count": null,
      "outputs": []
    },
    {
      "cell_type": "markdown",
      "source": [
        "# **PROBLEMA 2**"
      ],
      "metadata": {
        "id": "KejGfAIjeTzi"
      }
    },
    {
      "cell_type": "markdown",
      "source": [
        "**Contexto**: Diseñar un protocolo de aplicación personalizado para un sistema de archivos\n",
        "distribuido que se ejecutará sobre TCP, utilizando técnicas como multiplexación y control de flujo."
      ],
      "metadata": {
        "id": "aSuYiI3KZ5-e"
      }
    },
    {
      "cell_type": "code",
      "source": [
        "import socket\n",
        "import struct"
      ],
      "metadata": {
        "id": "kj5qulflzG2I"
      },
      "execution_count": null,
      "outputs": []
    },
    {
      "cell_type": "markdown",
      "source": [
        "## **Paso 1: Diseño del protocolo**"
      ],
      "metadata": {
        "id": "DETjWsuHeXAZ"
      }
    },
    {
      "cell_type": "markdown",
      "source": [
        "EL protocolo van a tener las siguientes operaciones básicas sobre el TCP:\n",
        "\n",
        "● PUT: Enviar un archivo al sistema.\n",
        "\n",
        "● GET: Recuperar un archivo del sistema.\n",
        "\n",
        "● DELETE: Eliminar un archivo del sistema.\n",
        "\n",
        "Cada mensaje tendrá una cabecera que incluye el tipo de operación, el tamaño del mensaje, y un número de secuencia para el control de flujo y la recuperación de errores."
      ],
      "metadata": {
        "id": "KTxwvK0R57MJ"
      }
    },
    {
      "cell_type": "markdown",
      "source": [
        "## **Paso 2: Implementación de control de flujo**"
      ],
      "metadata": {
        "id": "7A21ICXaebTa"
      }
    },
    {
      "cell_type": "code",
      "source": [
        "import socket\n",
        "import struct\n",
        "def send_message(sock, msg_type, seq_num, data):\n",
        "    header = struct.pack('!I I', msg_type, seq_num)\n",
        "    message = header + data.encode()\n",
        "    sock.sendall(message)\n",
        "def receive_message(sock):\n",
        "    header = sock.recv(8)\n",
        "    msg_type, seq_num = struct.unpack('!I I', header)\n",
        "    data = sock.recv(1024) # ajustar según el tamaño esperado del mensaje\n",
        "    return msg_type, seq_num, data.decode()\n",
        "\n",
        "def main():\n",
        "    host = 'localhost'\n",
        "    port = 9000\n",
        "    server = socket.socket(socket.AF_INET, socket.SOCK_STREAM)\n",
        "    server.bind((host, port))\n",
        "    server.listen(1)\n",
        "    print(\"Server listening on port\", port)\n",
        "    client_sock, addr = server.accept()\n",
        "    print(\"Connected by\", addr)\n",
        "    # Simulación de recepción de un mensaje\n",
        "    msg_type, seq_num, data = receive_message(client_sock)\n",
        "    print(\"Received:\", msg_type, seq_num, data)\n",
        "    # Envío de una respuesta\n",
        "    send_message(client_sock, 1, seq_num + 1, \"Ack\")\n",
        "    client_sock.close()\n",
        "    server.close()\n",
        "\n",
        "if __name__ == '__main__':\n",
        "    main()"
      ],
      "metadata": {
        "id": "xUfC_74-37bI"
      },
      "execution_count": null,
      "outputs": []
    },
    {
      "cell_type": "markdown",
      "source": [
        "El código anterior funciona de la siguiente manera para una sola ves, cuando un cliente se conecta, el servidor espera recibir un mensaje con un formato específico, lo procesa y luego envía una respuesta de confirmación al cliente. Es decir, es la una estructura **TCP** para poder aplicar lo que nos pide el probelma."
      ],
      "metadata": {
        "id": "VEwIaF6y3wsv"
      }
    },
    {
      "cell_type": "markdown",
      "source": [
        "**Implementación de protocolo de aplicación personalizado para un sistema de archivos\n",
        "distribuido**"
      ],
      "metadata": {
        "id": "PqziAe4kyZxa"
      }
    },
    {
      "cell_type": "code",
      "source": [
        "import socket\n",
        "import struct\n",
        "\n",
        "# Definir las operaciones PUT; GET y DELETE para acceder\n",
        "OPERATION_PUT = 1\n",
        "OPERATION_GET = 2\n",
        "OPERATION_DELETE = 3\n",
        "\n",
        "def send_message(sock, operation, seq_num, data):\n",
        "    header = struct.pack('!I I I', operation, len(data), seq_num)\n",
        "    message = header + data.encode()\n",
        "    sock.sendall(message)\n",
        "\n",
        "def receive_message(sock):\n",
        "    header = sock.recv(12)\n",
        "    operation, msg_length, seq_num = struct.unpack('!I I I', header)\n",
        "    data = sock.recv(msg_length).decode()\n",
        "    return operation, seq_num, data\n",
        "\n",
        "def put(sock, filename, seq_num): ## crear nuevos archivos\n",
        "    with open(filename, 'rb') as f:\n",
        "        file_data = f.read()\n",
        "    send_message(sock, OPERATION_PUT, seq_num, file_data)\n",
        "\n",
        "def get(sock, filename, seq_num): ## obtener algún archivo\n",
        "    send_message(sock, OPERATION_GET, seq_num, filename)\n",
        "\n",
        "    # Recibir el contenido del archivo\n",
        "    operation, _, data = receive_message(sock)\n",
        "    if operation == OPERATION_GET:\n",
        "        with open(filename, 'wb') as f:\n",
        "            f.write(data.encode())\n",
        "        print(f\"File '{filename}' received successfully.\")\n",
        "    else:\n",
        "        print(\"Error: File not received.\")\n",
        "\n",
        "def delete(sock, filename, seq_num): ## eliminar algún archivo\n",
        "    send_message(sock, OPERATION_DELETE, seq_num, filename)\n",
        "    print(f\"File '{filename}' deleted successfully.\")\n",
        "\n",
        "def main():\n",
        "    host = 'localhost'\n",
        "    port = 1245\n",
        "    server = socket.socket(socket.AF_INET, socket.SOCK_STREAM)\n",
        "    server.bind((host, port))\n",
        "    server.listen(1)\n",
        "    print(\"Server listening on port\", port)\n",
        "    client_sock, addr = server.accept()\n",
        "    print(\"Connected by\", addr)\n",
        "\n",
        "    # Respecto a lo que se desea podemos usar las operaciones del problema\n",
        "    seq_num = 1\n",
        "    put(client_sock, \"file.txt\", seq_num)\n",
        "    seq_num += 1\n",
        "    get(client_sock, \"file.txt\", seq_num)\n",
        "    seq_num += 1\n",
        "    delete(client_sock, \"file.txt\", seq_num)\n",
        "\n",
        "    client_sock.close()\n",
        "    server.close()\n",
        "\n",
        "if __name__ == '__main__':\n",
        "    main()\n"
      ],
      "metadata": {
        "id": "qwKrQDMR3Oxt"
      },
      "execution_count": null,
      "outputs": []
    },
    {
      "cell_type": "markdown",
      "source": [
        "1.- Las funciones `put, get, y delete` son ahora funciones separadas que toman un socket, el nombre del archivo y un número de secuencia como argumentos.\n",
        "\n",
        "2.- La función `put` lee el contenido del archivo especificado, lo envía al servidor como un mensaje con la operación **OPERATION_PUT**.\n",
        "\n",
        "3.- La función *get* envía una solicitud al servidor para obtener un archivo, luego recibe el contenido del archivo del servidor y lo guarda localmente.\n",
        "\n",
        "4.- La función `delete` envía una solicitud al servidor para eliminar un archivo.\n",
        "\n",
        "5.- En la función `main`, se ilustra un ejemplo de cómo usar estas funciones en secuencia para realizar operaciones `PUT, GET y DELETE` en archivos."
      ],
      "metadata": {
        "id": "qi4a8Q4H5Y2_"
      }
    },
    {
      "cell_type": "markdown",
      "source": [
        "## **Paso 3: Evaluación del protocolo**"
      ],
      "metadata": {
        "id": "lPWwVasJek6X"
      }
    },
    {
      "cell_type": "markdown",
      "source": [
        "Se recomienda el uso de la herramienta Wireshark para monitorear la eficacia del control de flujo y el manejo de errores durante la transferencia de archivos. Esto podría involucrar la simulación de condiciones de red adversas, como alta latencia y pérdida de paquetes, para ver cómo el protocolo se comporta y se recupera de estos problemas."
      ],
      "metadata": {
        "id": "9SO8grVDeqgh"
      }
    },
    {
      "cell_type": "markdown",
      "source": [
        "# **PROBLEAM 3**"
      ],
      "metadata": {
        "id": "Dzr6eW4G6qDm"
      }
    },
    {
      "cell_type": "markdown",
      "source": [
        "**Contexto**: Una organización requiere un sistema de autenticación segura que utilice LDAP\n",
        "para la gestión de identidades y SSH para el acceso remoto."
      ],
      "metadata": {
        "id": "0yB1S3q-8CwF"
      }
    },
    {
      "cell_type": "markdown",
      "source": [
        "## **Paso 1: Configuración de LDAP y SSH**"
      ],
      "metadata": {
        "id": "VOvr4hvx6uBn"
      }
    },
    {
      "cell_type": "code",
      "source": [
        "!pip install paramiko\n",
        "!pip install ldap3"
      ],
      "metadata": {
        "colab": {
          "base_uri": "https://localhost:8080/"
        },
        "id": "kTjGReqCOnFe",
        "outputId": "3ad62886-b04e-45c6-a323-eac67eeeb84c"
      },
      "execution_count": null,
      "outputs": [
        {
          "output_type": "stream",
          "name": "stdout",
          "text": [
            "Requirement already satisfied: paramiko in /usr/local/lib/python3.10/dist-packages (3.4.0)\n",
            "Requirement already satisfied: bcrypt>=3.2 in /usr/local/lib/python3.10/dist-packages (from paramiko) (4.1.2)\n",
            "Requirement already satisfied: cryptography>=3.3 in /usr/local/lib/python3.10/dist-packages (from paramiko) (42.0.5)\n",
            "Requirement already satisfied: pynacl>=1.5 in /usr/local/lib/python3.10/dist-packages (from paramiko) (1.5.0)\n",
            "Requirement already satisfied: cffi>=1.12 in /usr/local/lib/python3.10/dist-packages (from cryptography>=3.3->paramiko) (1.16.0)\n",
            "Requirement already satisfied: pycparser in /usr/local/lib/python3.10/dist-packages (from cffi>=1.12->cryptography>=3.3->paramiko) (2.22)\n",
            "Collecting ldap3\n",
            "  Downloading ldap3-2.9.1-py2.py3-none-any.whl (432 kB)\n",
            "\u001b[2K     \u001b[90m━━━━━━━━━━━━━━━━━━━━━━━━━━━━━━━━━━━━━━━━\u001b[0m \u001b[32m432.2/432.2 kB\u001b[0m \u001b[31m7.5 MB/s\u001b[0m eta \u001b[36m0:00:00\u001b[0m\n",
            "\u001b[?25hRequirement already satisfied: pyasn1>=0.4.6 in /usr/local/lib/python3.10/dist-packages (from ldap3) (0.6.0)\n",
            "Installing collected packages: ldap3\n",
            "Successfully installed ldap3-2.9.1\n"
          ]
        }
      ]
    },
    {
      "cell_type": "code",
      "source": [
        "import ldap3\n",
        "import paramiko\n",
        "\n",
        "def create_ssh_tunnel(user, password, host, remote_host, local_port, remote_port):\n",
        "    client = paramiko.SSHClient()\n",
        "    client.set_missing_host_key_policy(paramiko.AutoAddPolicy())\n",
        "    client.connect(host, username=user, password=password)\n",
        "\n",
        "    # Establecer un reenvío de puertos para LDAP\n",
        "    tunnel = client.get_transport().open_channel('direct-tcpip', (remote_host, remote_port), ('localhost', local_port))\n",
        "    return client, tunnel\n",
        "\n",
        "\n",
        "def main():\n",
        "    # Configuración SSH\n",
        "    ssh_user = 'admin'\n",
        "    ssh_password = 'securepassword'\n",
        "    ssh_host = 'example.com'\n",
        "\n",
        "    # Configuración LDAP\n",
        "    ldap_host = 'ldap.example.com'\n",
        "    ldap_port = 389\n",
        "    ldap_base_dn = 'dc=example,dc=com'\n",
        "    ldap_search_filter = '(objectclass=person)'\n",
        "\n",
        "    # Puerto local para el túnel SSH\n",
        "    local_ldap_port = 389\n",
        "    # Puerto remoto para el servidor LDAP\n",
        "    remote_ldap_port = 389\n",
        "\n",
        "    # Establecer túnel SSH\n",
        "    client, tunnel = create_ssh_tunnel(ssh_user, ssh_password, ssh_host, ldap_host, local_ldap_port, remote_ldap_port)\n",
        "    print(f\"SSH tunnel established for LDAP on port {local_ldap_port}\")\n",
        "\n",
        "    # Configurar conexión LDAP a través del túnel SSH\n",
        "    ldap_server = ldap_host + ':' + str(local_ldap_port)\n",
        "    ldap_conn = ldap3.Connection(ldap_server, auto_bind=True, client_strategy=ldap3.SYNC)\n",
        "\n",
        "    # Realizar operaciones LDAP a través del túnel SSH\n",
        "    try:\n",
        "        ldap_conn.search(ldap_base_dn, ldap_search_filter, ldap3.SUBTREE)\n",
        "        print(\"LDAP search successful:\")\n",
        "        for entry in ldap_conn.entries:\n",
        "            print(entry)\n",
        "    except ldap3.LDAPException as e:\n",
        "        print(f\"LDAP search failed: {e}\")\n",
        "\n",
        "    # Cerrar túnel SSH y conexión LDAP\n",
        "    tunnel.close()\n",
        "    client.close()\n",
        "    ldap_conn.unbind()\n",
        "\n",
        "\n",
        "if __name__ == '__main__':\n",
        "    main()"
      ],
      "metadata": {
        "id": "iC3VIeQz6wuJ"
      },
      "execution_count": null,
      "outputs": []
    },
    {
      "cell_type": "markdown",
      "source": [
        "## **Paso 2: Implementación de seguridad**"
      ],
      "metadata": {
        "id": "6ilYrQbk6w8P"
      }
    },
    {
      "cell_type": "code",
      "source": [
        "import ldap3\n",
        "import paramiko\n",
        "import ssl\n",
        "from OpenSSL import crypto\n",
        "\n",
        "def create_ssh_tunnel(user, password, host, remote_host, local_port, remote_port):\n",
        "    client = paramiko.SSHClient()\n",
        "    client.set_missing_host_key_policy(paramiko.AutoAddPolicy())\n",
        "    client.connect(host, username=user, password=password)\n",
        "\n",
        "    # Configurar SSL/TLS para el túnel SSH\n",
        "    tunnel = client.get_transport().open_channel('direct-tcpip', (remote_host, remote_port), ('localhost', local_port))\n",
        "\n",
        "    return client, tunnel\n",
        "\n",
        "def main():\n",
        "    # Configuración SSH\n",
        "    ssh_user = 'admin'\n",
        "    ssh_password = 'securepassword'\n",
        "    ssh_host = 'example.com'\n",
        "\n",
        "    # Configuración LDAP\n",
        "    ldap_host = 'ldap.example.com'\n",
        "    ldap_port = 389\n",
        "    ldap_base_dn = 'dc=example,dc=com'\n",
        "    ldap_search_filter = '(objectclass=person)'\n",
        "\n",
        "    # Puerto local para el túnel SSH\n",
        "    local_ldap_port = 389\n",
        "    # Puerto remoto para el servidor LDAP\n",
        "    remote_ldap_port = 389\n",
        "\n",
        "    # Establecer túnel SSH\n",
        "    client, tunnel = create_ssh_tunnel(ssh_user, ssh_password, ssh_host, ldap_host, local_ldap_port, remote_ldap_port)\n",
        "    print(f\"SSH tunnel established for LDAP on port {local_ldap_port}\")\n",
        "\n",
        "    # Configurar conexión LDAP a través del túnel SSH con SSL/TLS\n",
        "    ldap_server = ldap_host + ':' + str(local_ldap_port)\n",
        "    ldap_conn = ldap3.Connection(ldap_server, auto_bind=True, client_strategy=ldap3.SYNC, use_ssl=True, ssl_version=ssl.PROTOCOL_TLSv1_2)\n",
        "\n",
        "    # Realizar operaciones LDAP a través del túnel SSH\n",
        "    try:\n",
        "        ldap_conn.search(ldap_base_dn, ldap_search_filter, ldap3.SUBTREE)\n",
        "        print(\"LDAP search successful:\")\n",
        "        for entry in ldap_conn.entries:\n",
        "            print(entry)\n",
        "    except ldap3.LDAPException as e:\n",
        "        print(f\"LDAP search failed: {e}\")\n",
        "\n",
        "    # Cerrar túnel SSH y conexión LDAP\n",
        "    tunnel.close()\n",
        "    client.close()\n",
        "    ldap_conn.unbind()\n",
        "\n",
        "if __name__ == '__main__':\n",
        "    main()\n",
        "\n",
        "def create_self_signed_cert(cert_file, key_file):\n",
        "    k = crypto.PKey()\n",
        "    k.generate_key(crypto.TYPE_RSA, 2048)\n",
        "    cert = crypto.X509()\n",
        "    cert.get_subject().C = \"US\"\n",
        "    cert.get_subject().ST = \"California\"\n",
        "    cert.get_subject().L = \"San Francisco\"\n",
        "    cert.get_subject().O = \"My Company\"\n",
        "    cert.get_subject().OU = \"My Organizational Unit\"\n",
        "    cert.get_subject().CN = \"mydomain.com\"\n",
        "    cert.set_serial_number(1000)\n",
        "    cert.gmtime_adj_notBefore(0)\n",
        "    cert.gmtime_adj_notAfter(10 * 365 * 24 * 60 * 60)\n",
        "    cert.set_issuer(cert.get_subject())\n",
        "    cert.set_pubkey(k)\n",
        "    cert.sign(k, 'sha256')\n",
        "    open(cert_file, \"wt\").write(crypto.dump_certificate(crypto.FILETYPE_PEM, cert).decode('utf-8'))\n",
        "    open(key_file, \"wt\").write(crypto.dump_privatekey(crypto.FILETYPE_PEM, k).decode('utf-8'))\n",
        "\n",
        "create_self_signed_cert('ldap_cert.pem', 'ldap_key.pem')\n"
      ],
      "metadata": {
        "id": "AvQpyE8s61cn"
      },
      "execution_count": null,
      "outputs": []
    },
    {
      "cell_type": "markdown",
      "source": [
        "## **Paso 3: Evaluación de seguridad**"
      ],
      "metadata": {
        "id": "6EGhJCaO61mP"
      }
    },
    {
      "cell_type": "markdown",
      "source": [
        "Después de analizar el código se puede realizar algunas mejoras a partir de los conocimientos implementados en clase:\n",
        "\n",
        "1. Identificar posibles amenazas como ataques de intermediario y configuraciones erróneas de certificados que podrían comprometer la seguridad de la comunicación **LDAP** a través del túnel **SSH**. A lvez verificar los certificados SSL/TLS utilizados para prevenir la suplantación de identidad del servidor.\n",
        "\n",
        "2. Realizar pruebas para comprender posibles vulnerabilidades y puntos débiles en el sistema.\n",
        "\n",
        "3. Monitorear las configuraciones de **SSH** y **LDAP** para garantizar que estén correctamente implementadas y sigan las mejores prácticas de seguridad.\n",
        "\n",
        "4. Implementar sistemas de monitorización y registro para detectar actividades sospechosas o intentos de acceso no autorizado y responder rápidamente a incidentes de seguridad."
      ],
      "metadata": {
        "id": "ErRuQjyKTpBK"
      }
    },
    {
      "cell_type": "markdown",
      "source": [
        "# **PROBLEMA 4**\n"
      ],
      "metadata": {
        "id": "eEnTEbZFUaNf"
      }
    },
    {
      "cell_type": "markdown",
      "source": [
        "**Contexto**: Simular un entorno de red que utilice múltiples protocolos de la pila TCP/IP,\n",
        "asegurando la interoperabilidad entre dispositivos que utilizan diferentes configuraciones de red."
      ],
      "metadata": {
        "id": "DNIVtXDQWouy"
      }
    },
    {
      "cell_type": "markdown",
      "source": [
        "## **Paso 1: Simulación de protocolos de red en Python**"
      ],
      "metadata": {
        "id": "ZjqG5om4Ueci"
      }
    },
    {
      "cell_type": "code",
      "source": [
        "from scapy.all import *\n",
        "def simulate_ip():\n",
        "    packet = IP(dst=\"192.168.1.1\") / ICMP() / \"Hello, this is an IP packet\"\n",
        "    send(packet)\n",
        "def simulate_icmp():\n",
        "    icmp_echo = IP(dst=\"192.168.1.1\") / ICMP(type=8, code=0) / \"Ping\"\n",
        "    send(icmp_echo)\n",
        "\n",
        "def simulate_igmp():\n",
        "    igmp_packet = IP(dst=\"224.0.0.1\") / IGMP(type=0x16, gaddr=\"224.0.0.1\")\n",
        "    send(igmp_packet)\n",
        "def simulate_arp():\n",
        "    arp_request = ARP(pdst='192.168.1.2')\n",
        "    send(arp_request)\n",
        "\n",
        "simulate_ip()\n",
        "simulate_icmp()\n",
        "simulate_igmp()\n",
        "simulate_arp()\n"
      ],
      "metadata": {
        "id": "aTXKRHF5UieE"
      },
      "execution_count": null,
      "outputs": []
    },
    {
      "cell_type": "markdown",
      "source": [
        "## **Paso 2: Evaluación de interoperabilidad**"
      ],
      "metadata": {
        "id": "SBQ7_U7uUi0r"
      }
    },
    {
      "cell_type": "markdown",
      "source": [
        "Para evaluar la interoperabilidad, se puede utilizar **Wireshark** para analizar el tráfico de red después de simular cada protocolo, puedes obtener una visión detallada del rendimiento, la eficiencia y la seguridad de tu red. Esto te permite identificar y resolver problemas potenciales, optimizar el rendimiento y garantizar una comunicación fluida entre dispositivos."
      ],
      "metadata": {
        "id": "DXVi3RXsY1jd"
      }
    },
    {
      "cell_type": "markdown",
      "source": [
        "## **Paso 3: Uso de R-utilities para diagnóstico**"
      ],
      "metadata": {
        "id": "PHJKf4lRUtNM"
      }
    },
    {
      "cell_type": "code",
      "source": [
        "import os\n",
        "def run_traceroute(target):\n",
        "    response = os.system(f\"traceroute {target}\")\n",
        "    print(response)\n",
        "def run_ping(target):\n",
        "    response = os.system(f\"ping -c 4 {target}\")\n",
        "    print(response)\n",
        "run_traceroute('192.168.1.1')\n",
        "run_ping('192.168.1.1')"
      ],
      "metadata": {
        "colab": {
          "base_uri": "https://localhost:8080/"
        },
        "id": "fdwv2lTcU0B2",
        "outputId": "013d4117-4f50-4bd7-aa7b-f4828817bcd6"
      },
      "execution_count": null,
      "outputs": [
        {
          "output_type": "stream",
          "name": "stdout",
          "text": [
            "32512\n",
            "32512\n"
          ]
        }
      ]
    }
  ]
}